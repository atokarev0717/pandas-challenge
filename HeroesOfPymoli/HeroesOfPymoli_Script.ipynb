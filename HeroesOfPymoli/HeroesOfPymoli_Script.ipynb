{
 "cells": [
  {
   "cell_type": "code",
   "execution_count": 2,
   "metadata": {},
   "outputs": [
    {
     "output_type": "execute_result",
     "data": {
      "text/plain": [
       "   Purchase ID             SN  Age Gender  Item ID  \\\n",
       "0            0        Lisim78   20   Male      108   \n",
       "1            1    Lisovynya38   40   Male      143   \n",
       "2            2     Ithergue48   24   Male       92   \n",
       "3            3  Chamassasya86   24   Male      100   \n",
       "4            4      Iskosia90   23   Male      131   \n",
       "\n",
       "                                   Item Name  Price  \n",
       "0  Extraction, Quickblade Of Trembling Hands   3.53  \n",
       "1                          Frenzied Scimitar   1.56  \n",
       "2                               Final Critic   4.88  \n",
       "3                                Blindscythe   3.27  \n",
       "4                                       Fury   1.44  "
      ],
      "text/html": "<div>\n<style scoped>\n    .dataframe tbody tr th:only-of-type {\n        vertical-align: middle;\n    }\n\n    .dataframe tbody tr th {\n        vertical-align: top;\n    }\n\n    .dataframe thead th {\n        text-align: right;\n    }\n</style>\n<table border=\"1\" class=\"dataframe\">\n  <thead>\n    <tr style=\"text-align: right;\">\n      <th></th>\n      <th>Purchase ID</th>\n      <th>SN</th>\n      <th>Age</th>\n      <th>Gender</th>\n      <th>Item ID</th>\n      <th>Item Name</th>\n      <th>Price</th>\n    </tr>\n  </thead>\n  <tbody>\n    <tr>\n      <th>0</th>\n      <td>0</td>\n      <td>Lisim78</td>\n      <td>20</td>\n      <td>Male</td>\n      <td>108</td>\n      <td>Extraction, Quickblade Of Trembling Hands</td>\n      <td>3.53</td>\n    </tr>\n    <tr>\n      <th>1</th>\n      <td>1</td>\n      <td>Lisovynya38</td>\n      <td>40</td>\n      <td>Male</td>\n      <td>143</td>\n      <td>Frenzied Scimitar</td>\n      <td>1.56</td>\n    </tr>\n    <tr>\n      <th>2</th>\n      <td>2</td>\n      <td>Ithergue48</td>\n      <td>24</td>\n      <td>Male</td>\n      <td>92</td>\n      <td>Final Critic</td>\n      <td>4.88</td>\n    </tr>\n    <tr>\n      <th>3</th>\n      <td>3</td>\n      <td>Chamassasya86</td>\n      <td>24</td>\n      <td>Male</td>\n      <td>100</td>\n      <td>Blindscythe</td>\n      <td>3.27</td>\n    </tr>\n    <tr>\n      <th>4</th>\n      <td>4</td>\n      <td>Iskosia90</td>\n      <td>23</td>\n      <td>Male</td>\n      <td>131</td>\n      <td>Fury</td>\n      <td>1.44</td>\n    </tr>\n  </tbody>\n</table>\n</div>"
     },
     "metadata": {},
     "execution_count": 2
    }
   ],
   "source": [
    "# Import needed libriary\n",
    "import pandas as pd\n",
    "import numpy as np\n",
    "\n",
    "# Connect to the file\n",
    "file_to_load = \"./Resources/purchase_data.csv\"\n",
    "\n",
    "# Create data frame from the file \n",
    "purchase_df = pd.read_csv(file_to_load)\n",
    "purchase_df.head()"
   ]
  },
  {
   "cell_type": "code",
   "execution_count": 3,
   "metadata": {},
   "outputs": [
    {
     "output_type": "execute_result",
     "data": {
      "text/plain": [
       "576"
      ]
     },
     "metadata": {},
     "execution_count": 3
    }
   ],
   "source": [
    "# Calculate total number of players\n",
    "players_numbers = len(purchase_df['SN'].unique())\n",
    "players_numbers"
   ]
  },
  {
   "cell_type": "code",
   "execution_count": 4,
   "metadata": {},
   "outputs": [
    {
     "output_type": "execute_result",
     "data": {
      "text/plain": [
       "Purchase ID    780\n",
       "SN             780\n",
       "Age            780\n",
       "Gender         780\n",
       "Item ID        780\n",
       "Item Name      780\n",
       "Price          780\n",
       "dtype: int64"
      ]
     },
     "metadata": {},
     "execution_count": 4
    }
   ],
   "source": [
    "# identify incomplete rows \n",
    "purchase_df.count()"
   ]
  },
  {
   "cell_type": "code",
   "execution_count": 5,
   "metadata": {},
   "outputs": [
    {
     "output_type": "execute_result",
     "data": {
      "text/plain": [
       "179"
      ]
     },
     "metadata": {},
     "execution_count": 5
    }
   ],
   "source": [
    "# calculate number of items\n",
    "unique_items = len(purchase_df['Item ID'].unique())\n",
    "unique_items\n"
   ]
  },
  {
   "cell_type": "code",
   "execution_count": 6,
   "metadata": {},
   "outputs": [
    {
     "output_type": "execute_result",
     "data": {
      "text/plain": [
       "3.050987179487176"
      ]
     },
     "metadata": {},
     "execution_count": 6
    }
   ],
   "source": [
    "# Average Purchase Price\n",
    "average_price = purchase_df['Price'].mean()\n",
    "average_price"
   ]
  },
  {
   "cell_type": "code",
   "execution_count": 7,
   "metadata": {},
   "outputs": [
    {
     "output_type": "execute_result",
     "data": {
      "text/plain": [
       "780"
      ]
     },
     "metadata": {},
     "execution_count": 7
    }
   ],
   "source": [
    "# Total number of purchases\n",
    "number_purchases = len(purchase_df['Item ID'])\n",
    "number_purchases\n"
   ]
  },
  {
   "cell_type": "code",
   "execution_count": 8,
   "metadata": {},
   "outputs": [
    {
     "output_type": "execute_result",
     "data": {
      "text/plain": [
       "2379.77"
      ]
     },
     "metadata": {},
     "execution_count": 8
    }
   ],
   "source": [
    "# Total Revenue\n",
    "total_revenue = purchase_df['Price'].sum()\n",
    "total_revenue"
   ]
  },
  {
   "cell_type": "code",
   "execution_count": 9,
   "metadata": {},
   "outputs": [
    {
     "output_type": "execute_result",
     "data": {
      "text/plain": [
       "   Number of Unique Items  Average Price  Number of Purchases  Total Revenue\n",
       "0                     179       3.050987                  780        2379.77"
      ],
      "text/html": "<div>\n<style scoped>\n    .dataframe tbody tr th:only-of-type {\n        vertical-align: middle;\n    }\n\n    .dataframe tbody tr th {\n        vertical-align: top;\n    }\n\n    .dataframe thead th {\n        text-align: right;\n    }\n</style>\n<table border=\"1\" class=\"dataframe\">\n  <thead>\n    <tr style=\"text-align: right;\">\n      <th></th>\n      <th>Number of Unique Items</th>\n      <th>Average Price</th>\n      <th>Number of Purchases</th>\n      <th>Total Revenue</th>\n    </tr>\n  </thead>\n  <tbody>\n    <tr>\n      <th>0</th>\n      <td>179</td>\n      <td>3.050987</td>\n      <td>780</td>\n      <td>2379.77</td>\n    </tr>\n  </tbody>\n</table>\n</div>"
     },
     "metadata": {},
     "execution_count": 9
    }
   ],
   "source": [
    "# build new data frame with purchasing analysis\n",
    "purchase_analysis_df = pd.DataFrame({\n",
    "    'Number of Unique Items': [unique_items], \n",
    "    'Average Price': [average_price],\n",
    "    'Number of Purchases': [number_purchases], \n",
    "    'Total Revenue': [total_revenue]\n",
    "    })\n",
    "purchase_analysis_df"
   ]
  },
  {
   "cell_type": "code",
   "execution_count": 10,
   "metadata": {},
   "outputs": [
    {
     "output_type": "execute_result",
     "data": {
      "text/plain": [
       "['Male', 'Other / Non-Disclosed', 'Female']"
      ]
     },
     "metadata": {},
     "execution_count": 10
    }
   ],
   "source": [
    "genders = purchase_df['Gender'].unique().tolist()\n",
    "genders\n"
   ]
  },
  {
   "cell_type": "code",
   "execution_count": 11,
   "metadata": {},
   "outputs": [],
   "source": [
    "# Calculating number of players by gender\n",
    "\n",
    "male_count = len(purchase_df.loc[purchase_df['Gender'] == 'Male', :]['SN'].unique())\n",
    "\n",
    "female_count = len(purchase_df.loc[purchase_df['Gender'] == 'Female', :]['SN'].unique())\n",
    "\n",
    "othergender_count = len(purchase_df.loc[purchase_df['Gender'] == 'Other / Non-Disclosed', :]['SN'].unique())\n",
    "\n",
    "total_gendercount = male_count + female_count + othergender_count\n"
   ]
  },
  {
   "cell_type": "code",
   "execution_count": 12,
   "metadata": {},
   "outputs": [
    {
     "output_type": "execute_result",
     "data": {
      "text/plain": [
       "                       Total Count Percentage of Players\n",
       "Gender                                                  \n",
       "Male                           484                84.03%\n",
       "Female                          81                14.06%\n",
       "Other / Non-Disclosed           11                 1.91%"
      ],
      "text/html": "<div>\n<style scoped>\n    .dataframe tbody tr th:only-of-type {\n        vertical-align: middle;\n    }\n\n    .dataframe tbody tr th {\n        vertical-align: top;\n    }\n\n    .dataframe thead th {\n        text-align: right;\n    }\n</style>\n<table border=\"1\" class=\"dataframe\">\n  <thead>\n    <tr style=\"text-align: right;\">\n      <th></th>\n      <th>Total Count</th>\n      <th>Percentage of Players</th>\n    </tr>\n    <tr>\n      <th>Gender</th>\n      <th></th>\n      <th></th>\n    </tr>\n  </thead>\n  <tbody>\n    <tr>\n      <th>Male</th>\n      <td>484</td>\n      <td>84.03%</td>\n    </tr>\n    <tr>\n      <th>Female</th>\n      <td>81</td>\n      <td>14.06%</td>\n    </tr>\n    <tr>\n      <th>Other / Non-Disclosed</th>\n      <td>11</td>\n      <td>1.91%</td>\n    </tr>\n  </tbody>\n</table>\n</div>"
     },
     "metadata": {},
     "execution_count": 12
    }
   ],
   "source": [
    "# creating new data frame with gender statistics\n",
    "gender_analysis = pd.DataFrame({\n",
    "    'Total Count': [male_count, female_count, othergender_count], \n",
    "    'Percentage of Players': [male_count/total_gendercount, female_count/total_gendercount, othergender_count/total_gendercount],\n",
    "    'Gender': ['Male', 'Female', 'Other / Non-Disclosed']\n",
    "}).set_index('Gender')\n",
    "gender_analysis['Percentage of Players'] = gender_analysis['Percentage of Players'].map(\"{:.2%}\".format)\n",
    "gender_analysis"
   ]
  },
  {
   "cell_type": "markdown",
   "metadata": {},
   "source": [
    "\n",
    "## Purchasing Analysis (Gender)"
   ]
  },
  {
   "cell_type": "code",
   "execution_count": 13,
   "metadata": {},
   "outputs": [
    {
     "output_type": "execute_result",
     "data": {
      "text/plain": [
       "                       Purchase ID  Price Total Purchase Value  \\\n",
       "Gender                                                           \n",
       "Female                         113  $3.20              $361.94   \n",
       "Male                           652  $3.02            $1,967.64   \n",
       "Other / Non-Disclosed           15  $3.35               $50.19   \n",
       "\n",
       "                      Avg Total Purchase per Person  \n",
       "Gender                                               \n",
       "Female                                        $4.47  \n",
       "Male                                          $4.07  \n",
       "Other / Non-Disclosed                         $4.56  "
      ],
      "text/html": "<div>\n<style scoped>\n    .dataframe tbody tr th:only-of-type {\n        vertical-align: middle;\n    }\n\n    .dataframe tbody tr th {\n        vertical-align: top;\n    }\n\n    .dataframe thead th {\n        text-align: right;\n    }\n</style>\n<table border=\"1\" class=\"dataframe\">\n  <thead>\n    <tr style=\"text-align: right;\">\n      <th></th>\n      <th>Purchase ID</th>\n      <th>Price</th>\n      <th>Total Purchase Value</th>\n      <th>Avg Total Purchase per Person</th>\n    </tr>\n    <tr>\n      <th>Gender</th>\n      <th></th>\n      <th></th>\n      <th></th>\n      <th></th>\n    </tr>\n  </thead>\n  <tbody>\n    <tr>\n      <th>Female</th>\n      <td>113</td>\n      <td>$3.20</td>\n      <td>$361.94</td>\n      <td>$4.47</td>\n    </tr>\n    <tr>\n      <th>Male</th>\n      <td>652</td>\n      <td>$3.02</td>\n      <td>$1,967.64</td>\n      <td>$4.07</td>\n    </tr>\n    <tr>\n      <th>Other / Non-Disclosed</th>\n      <td>15</td>\n      <td>$3.35</td>\n      <td>$50.19</td>\n      <td>$4.56</td>\n    </tr>\n  </tbody>\n</table>\n</div>"
     },
     "metadata": {},
     "execution_count": 13
    }
   ],
   "source": [
    "# Purchasing Analysis by Gender\n",
    "purchase_grouped_by_gender = purchase_df.groupby('Gender')\n",
    "\n",
    "purchase_count_by_gender = purchase_grouped_by_gender[['Purchase ID']].count()\n",
    "\n",
    "purchase_price_by_gender = purchase_grouped_by_gender[['Price']].mean()\n",
    "purchase_price_by_gender['Price']= purchase_price_by_gender['Price'].map('${:.2f}'.format)\n",
    "\n",
    "purchase_totalvalue_by_gender = purchase_grouped_by_gender[['Price']].sum().rename(columns={'Price': 'Total Purchase Value'})\n",
    "\n",
    "purchase_totalvalue_by_gender['Avg Total Purchase per Person'] = purchase_totalvalue_by_gender['Total Purchase Value']/gender_analysis['Total Count']\n",
    "\n",
    "purchase_totalvalue_by_gender['Total Purchase Value'] = purchase_totalvalue_by_gender['Total Purchase Value'].map('${:,.2f}'.format)\n",
    "\n",
    "purchase_totalvalue_by_gender['Avg Total Purchase per Person'] = purchase_totalvalue_by_gender['Avg Total Purchase per Person'].map('${:,.2f}'.format)\n",
    "\n",
    "gender_purchase_summary = pd.merge(purchase_count_by_gender, purchase_price_by_gender, on='Gender', how='left')\n",
    "gender_purchase_summary = pd.merge(gender_purchase_summary, purchase_totalvalue_by_gender, on='Gender', how='left')\n",
    "gender_purchase_summary"
   ]
  },
  {
   "cell_type": "markdown",
   "metadata": {},
   "source": [
    "## Purchasing Analysis (Age)"
   ]
  },
  {
   "cell_type": "code",
   "execution_count": 14,
   "metadata": {},
   "outputs": [
    {
     "output_type": "execute_result",
     "data": {
      "text/plain": [
       "            Total Count (All Players) Total Purchase Value Average Price  \\\n",
       "Age Groups                                                                 \n",
       "<10                                23               $77.13         $3.35   \n",
       "10-14                              28               $82.78         $2.96   \n",
       "15-19                             136              $412.89         $3.04   \n",
       "20-24                             365            $1,114.06         $3.05   \n",
       "25-29                             101              $293.00         $2.90   \n",
       "30-34                              73              $214.00         $2.93   \n",
       "35-39                              41              $147.67         $3.60   \n",
       ">40                                13               $38.24         $2.94   \n",
       "\n",
       "           Average Purchase Total per Person  \n",
       "Age Groups                                    \n",
       "<10                                    $4.54  \n",
       "10-14                                  $3.76  \n",
       "15-19                                  $3.86  \n",
       "20-24                                  $4.32  \n",
       "25-29                                  $3.81  \n",
       "30-34                                  $4.12  \n",
       "35-39                                  $4.76  \n",
       ">40                                    $3.19  "
      ],
      "text/html": "<div>\n<style scoped>\n    .dataframe tbody tr th:only-of-type {\n        vertical-align: middle;\n    }\n\n    .dataframe tbody tr th {\n        vertical-align: top;\n    }\n\n    .dataframe thead th {\n        text-align: right;\n    }\n</style>\n<table border=\"1\" class=\"dataframe\">\n  <thead>\n    <tr style=\"text-align: right;\">\n      <th></th>\n      <th>Total Count (All Players)</th>\n      <th>Total Purchase Value</th>\n      <th>Average Price</th>\n      <th>Average Purchase Total per Person</th>\n    </tr>\n    <tr>\n      <th>Age Groups</th>\n      <th></th>\n      <th></th>\n      <th></th>\n      <th></th>\n    </tr>\n  </thead>\n  <tbody>\n    <tr>\n      <th>&lt;10</th>\n      <td>23</td>\n      <td>$77.13</td>\n      <td>$3.35</td>\n      <td>$4.54</td>\n    </tr>\n    <tr>\n      <th>10-14</th>\n      <td>28</td>\n      <td>$82.78</td>\n      <td>$2.96</td>\n      <td>$3.76</td>\n    </tr>\n    <tr>\n      <th>15-19</th>\n      <td>136</td>\n      <td>$412.89</td>\n      <td>$3.04</td>\n      <td>$3.86</td>\n    </tr>\n    <tr>\n      <th>20-24</th>\n      <td>365</td>\n      <td>$1,114.06</td>\n      <td>$3.05</td>\n      <td>$4.32</td>\n    </tr>\n    <tr>\n      <th>25-29</th>\n      <td>101</td>\n      <td>$293.00</td>\n      <td>$2.90</td>\n      <td>$3.81</td>\n    </tr>\n    <tr>\n      <th>30-34</th>\n      <td>73</td>\n      <td>$214.00</td>\n      <td>$2.93</td>\n      <td>$4.12</td>\n    </tr>\n    <tr>\n      <th>35-39</th>\n      <td>41</td>\n      <td>$147.67</td>\n      <td>$3.60</td>\n      <td>$4.76</td>\n    </tr>\n    <tr>\n      <th>&gt;40</th>\n      <td>13</td>\n      <td>$38.24</td>\n      <td>$2.94</td>\n      <td>$3.19</td>\n    </tr>\n  </tbody>\n</table>\n</div>"
     },
     "metadata": {},
     "execution_count": 14
    }
   ],
   "source": [
    "#Age Demographics\n",
    "\n",
    "# Denographics analysis while removing duplicate players\n",
    "unique_players_df = purchase_df.drop_duplicates(subset=['SN'])\n",
    "\n",
    "bins = [0, 9, 14, 19, 24, 29, 34, 39, 60]\n",
    "age_groups = ['<10', '10-14', '15-19', '20-24', '25-29', '30-34', '35-39', '>40']\n",
    "unique_players_df['Age Groups'] = pd.cut(unique_players_df['Age'], bins, labels= age_groups, include_lowest=True)\n",
    "\n",
    "purchase_df_uniqueplayers_groupedbyage = unique_players_df.groupby('Age Groups')\n",
    "\n",
    "purchase_count_groupedbyage = purchase_df_uniqueplayers_groupedbyage[['Purchase ID']].count().rename(columns={'Purchase ID': 'Total Count(Unique Players)'})\n",
    "\n",
    "percentage_players_groupedbyage = ((purchase_count_groupedbyage[['Total Count(Unique Players)']]/players_numbers).rename(columns={'Total Count(Unique Players)': 'Percentage of Players'}))['Percentage of Players'].map('{:.2%}'.format)\n",
    "\n",
    "summary_by_agegroups_uniqueplayers = pd.merge(purchase_count_groupedbyage, percentage_players_groupedbyage, on='Age Groups', how='left')\n",
    "\n",
    "summary_by_agegroups_uniqueplayers \n",
    "\n",
    "# Denographics analysis with all players included \n",
    "\n",
    "purchase_df['Age Groups'] = pd.cut(purchase_df['Age'], bins, labels= age_groups, include_lowest=True)\n",
    "\n",
    "purchase_df_allplayers_groupedbyage = purchase_df.groupby('Age Groups')\n",
    "\n",
    "ave_price_by_agegroupe = ((purchase_df_allplayers_groupedbyage[['Price']].mean()).rename(columns={'Price': 'Average Price'}))['Average Price'].map('${:.2f}'.format)\n",
    "\n",
    "purchase_count_allplayers_groupedbyage = purchase_df_allplayers_groupedbyage[['Purchase ID']].count().rename(columns={'Purchase ID': 'Total Count (All Players)'})\n",
    "\n",
    "purchase_sum_allplayers_groupedbyage = (purchase_df_allplayers_groupedbyage[['Price']].sum().rename(columns={'Price': 'Total Purchase Value'}))\n",
    "summary_by_agegroups_allplayers = pd.merge(purchase_count_allplayers_groupedbyage, purchase_sum_allplayers_groupedbyage, on='Age Groups', how='left')\n",
    "\n",
    "summary_by_agegroups_allplayers = pd.merge(summary_by_agegroups_allplayers, ave_price_by_agegroupe, on='Age Groups', how='left')\n",
    "\n",
    "summary_by_agegroups_allplayers['Average Purchase Total per Person'] = summary_by_agegroups_allplayers['Total Purchase Value']/purchase_count_groupedbyage['Total Count(Unique Players)']\n",
    "\n",
    "summary_by_agegroups_allplayers['Total Purchase Value'] = summary_by_agegroups_allplayers['Total Purchase Value'].map('${:,.2f}'.format)\n",
    "\n",
    "summary_by_agegroups_allplayers['Average Purchase Total per Person'] = summary_by_agegroups_allplayers['Average Purchase Total per Person'].map('${:.2f}'.format)\n",
    "\n",
    "summary_by_agegroups_allplayers\n",
    "\n"
   ]
  },
  {
   "cell_type": "markdown",
   "metadata": {},
   "source": [
    "## Top Spenders"
   ]
  },
  {
   "cell_type": "code",
   "execution_count": 38,
   "metadata": {},
   "outputs": [
    {
     "output_type": "execute_result",
     "data": {
      "text/plain": [
       "            Total Purchase Value  Purchase Count Average Purchase Price\n",
       "SN                                                                     \n",
       "Lisosia93                 $18.96               5                  $3.79\n",
       "Idastidru52               $15.45               4                  $3.86\n",
       "Chamjask73                $13.83               3                  $4.61\n",
       "Iral74                    $13.62               4                  $3.40\n",
       "Iskadarya95               $13.10               3                  $4.37"
      ],
      "text/html": "<div>\n<style scoped>\n    .dataframe tbody tr th:only-of-type {\n        vertical-align: middle;\n    }\n\n    .dataframe tbody tr th {\n        vertical-align: top;\n    }\n\n    .dataframe thead th {\n        text-align: right;\n    }\n</style>\n<table border=\"1\" class=\"dataframe\">\n  <thead>\n    <tr style=\"text-align: right;\">\n      <th></th>\n      <th>Total Purchase Value</th>\n      <th>Purchase Count</th>\n      <th>Average Purchase Price</th>\n    </tr>\n    <tr>\n      <th>SN</th>\n      <th></th>\n      <th></th>\n      <th></th>\n    </tr>\n  </thead>\n  <tbody>\n    <tr>\n      <th>Lisosia93</th>\n      <td>$18.96</td>\n      <td>5</td>\n      <td>$3.79</td>\n    </tr>\n    <tr>\n      <th>Idastidru52</th>\n      <td>$15.45</td>\n      <td>4</td>\n      <td>$3.86</td>\n    </tr>\n    <tr>\n      <th>Chamjask73</th>\n      <td>$13.83</td>\n      <td>3</td>\n      <td>$4.61</td>\n    </tr>\n    <tr>\n      <th>Iral74</th>\n      <td>$13.62</td>\n      <td>4</td>\n      <td>$3.40</td>\n    </tr>\n    <tr>\n      <th>Iskadarya95</th>\n      <td>$13.10</td>\n      <td>3</td>\n      <td>$4.37</td>\n    </tr>\n  </tbody>\n</table>\n</div>"
     },
     "metadata": {},
     "execution_count": 38
    }
   ],
   "source": [
    "by_player_df = purchase_df.groupby(['SN'])\n",
    "total_purchase_value_byplayer = by_player_df[['Price']].sum().rename(columns={'Price': 'Total Purchase Value'})\n",
    "summary_by_player = total_purchase_value_byplayer\n",
    "summary_by_player['Purchase Count'] = by_player_df[['Purchase ID']].count()\n",
    "\n",
    "summary_by_player['Average Purchase Price'] = by_player_df[['Price']].mean()\n",
    "\n",
    "summary_by_player = summary_by_player.sort_values(by=['Total Purchase Value'],ascending=False)\n",
    "\n",
    "summary_by_player['Total Purchase Value'] = summary_by_player['Total Purchase Value'].map('${:.2f}'.format)\n",
    "summary_by_player['Average Purchase Price'] = summary_by_player['Average Purchase Price'].map('${:.2f}'.format)\n",
    "\n",
    "summary_by_player.head(5)\n"
   ]
  },
  {
   "cell_type": "markdown",
   "metadata": {},
   "source": [
    "## Most Popular Items"
   ]
  },
  {
   "cell_type": "code",
   "execution_count": 57,
   "metadata": {},
   "outputs": [
    {
     "output_type": "execute_result",
     "data": {
      "text/plain": [
       "                                                      Purchase Count  \\\n",
       "Item ID Item Name                                                      \n",
       "92      Final Critic                                              13   \n",
       "178     Oathbreaker, Last Hope of the Breaking Storm              12   \n",
       "145     Fiery Glass Crusader                                       9   \n",
       "132     Persuasion                                                 9   \n",
       "108     Extraction, Quickblade Of Trembling Hands                  9   \n",
       "\n",
       "                                                     Item Price  \\\n",
       "Item ID Item Name                                                 \n",
       "92      Final Critic                                      $4.61   \n",
       "178     Oathbreaker, Last Hope of the Breaking Storm      $4.23   \n",
       "145     Fiery Glass Crusader                              $4.58   \n",
       "132     Persuasion                                        $3.22   \n",
       "108     Extraction, Quickblade Of Trembling Hands         $3.53   \n",
       "\n",
       "                                                     Total Puirchase Value  \n",
       "Item ID Item Name                                                           \n",
       "92      Final Critic                                                $59.99  \n",
       "178     Oathbreaker, Last Hope of the Breaking Storm                $50.76  \n",
       "145     Fiery Glass Crusader                                        $41.22  \n",
       "132     Persuasion                                                  $28.99  \n",
       "108     Extraction, Quickblade Of Trembling Hands                   $31.77  "
      ],
      "text/html": "<div>\n<style scoped>\n    .dataframe tbody tr th:only-of-type {\n        vertical-align: middle;\n    }\n\n    .dataframe tbody tr th {\n        vertical-align: top;\n    }\n\n    .dataframe thead th {\n        text-align: right;\n    }\n</style>\n<table border=\"1\" class=\"dataframe\">\n  <thead>\n    <tr style=\"text-align: right;\">\n      <th></th>\n      <th></th>\n      <th>Purchase Count</th>\n      <th>Item Price</th>\n      <th>Total Puirchase Value</th>\n    </tr>\n    <tr>\n      <th>Item ID</th>\n      <th>Item Name</th>\n      <th></th>\n      <th></th>\n      <th></th>\n    </tr>\n  </thead>\n  <tbody>\n    <tr>\n      <th>92</th>\n      <th>Final Critic</th>\n      <td>13</td>\n      <td>$4.61</td>\n      <td>$59.99</td>\n    </tr>\n    <tr>\n      <th>178</th>\n      <th>Oathbreaker, Last Hope of the Breaking Storm</th>\n      <td>12</td>\n      <td>$4.23</td>\n      <td>$50.76</td>\n    </tr>\n    <tr>\n      <th>145</th>\n      <th>Fiery Glass Crusader</th>\n      <td>9</td>\n      <td>$4.58</td>\n      <td>$41.22</td>\n    </tr>\n    <tr>\n      <th>132</th>\n      <th>Persuasion</th>\n      <td>9</td>\n      <td>$3.22</td>\n      <td>$28.99</td>\n    </tr>\n    <tr>\n      <th>108</th>\n      <th>Extraction, Quickblade Of Trembling Hands</th>\n      <td>9</td>\n      <td>$3.53</td>\n      <td>$31.77</td>\n    </tr>\n  </tbody>\n</table>\n</div>"
     },
     "metadata": {},
     "execution_count": 57
    }
   ],
   "source": [
    "by_items_df = purchase_df.groupby(['Item ID', 'Item Name'])\n",
    "\n",
    "purchase_count_byitem = by_items_df[['Purchase ID']].count().rename(columns={'Purchase ID': 'Purchase Count'})\n",
    "by_item_summary = purchase_count_byitem\n",
    "by_item_summary['Item Price'] = by_items_df['Price'].mean()\n",
    "by_item_summary['Total Puirchase Value'] = by_items_df['Price'].sum()\n",
    "by_item_summary = by_item_summary.sort_values(by=['Purchase Count'], ascending=False)\n",
    "by_item_summary['Total Puirchase Value'] = by_item_summary['Total Puirchase Value'].map('${:.2f}'.format)\n",
    "by_item_summary['Item Price'] = by_item_summary['Item Price'].map('${:.2f}'.format)\n",
    "\n",
    "by_item_summary.head(5)\n"
   ]
  },
  {
   "cell_type": "markdown",
   "metadata": {},
   "source": [
    "## Most Profitable Items"
   ]
  },
  {
   "cell_type": "markdown",
   "metadata": {},
   "source": [
    "* Sort the above table by total purchase value in descending order\n",
    "\n",
    "\n",
    "* Optional: give the displayed data cleaner formatting\n",
    "\n",
    "\n",
    "* Display a preview of the data frame\n",
    "\n"
   ]
  },
  {
   "cell_type": "code",
   "execution_count": 10,
   "metadata": {
    "scrolled": true
   },
   "outputs": [
    {
     "data": {
      "text/html": [
       "<div>\n",
       "<style scoped>\n",
       "    .dataframe tbody tr th:only-of-type {\n",
       "        vertical-align: middle;\n",
       "    }\n",
       "\n",
       "    .dataframe tbody tr th {\n",
       "        vertical-align: top;\n",
       "    }\n",
       "\n",
       "    .dataframe thead th {\n",
       "        text-align: right;\n",
       "    }\n",
       "</style>\n",
       "<table border=\"1\" class=\"dataframe\">\n",
       "  <thead>\n",
       "    <tr style=\"text-align: right;\">\n",
       "      <th></th>\n",
       "      <th></th>\n",
       "      <th>Purchase Count</th>\n",
       "      <th>Item Price</th>\n",
       "      <th>Total Purchase Value</th>\n",
       "    </tr>\n",
       "    <tr>\n",
       "      <th>Item ID</th>\n",
       "      <th>Item Name</th>\n",
       "      <th></th>\n",
       "      <th></th>\n",
       "      <th></th>\n",
       "    </tr>\n",
       "  </thead>\n",
       "  <tbody>\n",
       "    <tr>\n",
       "      <th>92</th>\n",
       "      <th>Final Critic</th>\n",
       "      <td>13</td>\n",
       "      <td>$4.61</td>\n",
       "      <td>$59.99</td>\n",
       "    </tr>\n",
       "    <tr>\n",
       "      <th>178</th>\n",
       "      <th>Oathbreaker, Last Hope of the Breaking Storm</th>\n",
       "      <td>12</td>\n",
       "      <td>$4.23</td>\n",
       "      <td>$50.76</td>\n",
       "    </tr>\n",
       "    <tr>\n",
       "      <th>82</th>\n",
       "      <th>Nirvana</th>\n",
       "      <td>9</td>\n",
       "      <td>$4.90</td>\n",
       "      <td>$44.10</td>\n",
       "    </tr>\n",
       "    <tr>\n",
       "      <th>145</th>\n",
       "      <th>Fiery Glass Crusader</th>\n",
       "      <td>9</td>\n",
       "      <td>$4.58</td>\n",
       "      <td>$41.22</td>\n",
       "    </tr>\n",
       "    <tr>\n",
       "      <th>103</th>\n",
       "      <th>Singed Scalpel</th>\n",
       "      <td>8</td>\n",
       "      <td>$4.35</td>\n",
       "      <td>$34.80</td>\n",
       "    </tr>\n",
       "  </tbody>\n",
       "</table>\n",
       "</div>"
      ],
      "text/plain": [
       "                                                     Purchase Count  \\\n",
       "Item ID Item Name                                                     \n",
       "92      Final Critic                                             13   \n",
       "178     Oathbreaker, Last Hope of the Breaking Storm             12   \n",
       "82      Nirvana                                                   9   \n",
       "145     Fiery Glass Crusader                                      9   \n",
       "103     Singed Scalpel                                            8   \n",
       "\n",
       "                                                     Item Price  \\\n",
       "Item ID Item Name                                                 \n",
       "92      Final Critic                                      $4.61   \n",
       "178     Oathbreaker, Last Hope of the Breaking Storm      $4.23   \n",
       "82      Nirvana                                           $4.90   \n",
       "145     Fiery Glass Crusader                              $4.58   \n",
       "103     Singed Scalpel                                    $4.35   \n",
       "\n",
       "                                                     Total Purchase Value  \n",
       "Item ID Item Name                                                          \n",
       "92      Final Critic                                               $59.99  \n",
       "178     Oathbreaker, Last Hope of the Breaking Storm               $50.76  \n",
       "82      Nirvana                                                    $44.10  \n",
       "145     Fiery Glass Crusader                                       $41.22  \n",
       "103     Singed Scalpel                                             $34.80  "
      ]
     },
     "execution_count": 10,
     "metadata": {},
     "output_type": "execute_result"
    }
   ],
   "source": []
  }
 ],
 "metadata": {
  "anaconda-cloud": {},
  "kernel_info": {
   "name": "python3"
  },
  "kernelspec": {
   "display_name": "Python 3",
   "language": "python",
   "name": "python3"
  },
  "language_info": {
   "codemirror_mode": {
    "name": "ipython",
    "version": 3
   },
   "file_extension": ".py",
   "mimetype": "text/x-python",
   "name": "python",
   "nbconvert_exporter": "python",
   "pygments_lexer": "ipython3",
   "version": "3.8.5-final"
  },
  "latex_envs": {
   "LaTeX_envs_menu_present": true,
   "autoclose": false,
   "autocomplete": true,
   "bibliofile": "biblio.bib",
   "cite_by": "apalike",
   "current_citInitial": 1,
   "eqLabelWithNumbers": true,
   "eqNumInitial": 1,
   "hotkeys": {
    "equation": "Ctrl-E",
    "itemize": "Ctrl-I"
   },
   "labels_anchors": false,
   "latex_user_defs": false,
   "report_style_numbering": false,
   "user_envs_cfg": false
  },
  "nteract": {
   "version": "0.2.0"
  }
 },
 "nbformat": 4,
 "nbformat_minor": 2
}